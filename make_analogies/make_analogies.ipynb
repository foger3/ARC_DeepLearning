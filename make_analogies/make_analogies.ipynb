{
 "cells": [
  {
   "cell_type": "code",
   "execution_count": 1,
   "metadata": {},
   "outputs": [],
   "source": [
    "#make transformations valid for rectangles and Ls\n",
    "import torch\n",
    "torch.manual_seed(42)\n",
    "import torch.nn as nn\n",
    "import torch.optim as optim\n",
    "\n",
    "import numpy as np\n",
    "np.random.seed(42)\n",
    "\n",
    "import pickle\n",
    "from sklearn.model_selection import train_test_split\n",
    "\n",
    "\n",
    "from make_analogies_functions import *\n",
    "device = torch.device(\"cuda:0\" if torch.cuda.is_available() else \"cpu\")\n",
    "\n",
    "num_samples = 100000 #each sample is a trio of images of which each comes in various forms (analogous transformations).\n",
    "img_size = 10\n",
    "pairs_per_task = 3\n",
    "shape = \"rectangle\" #rectangle or L\n",
    "all_images = []\n",
    "method_names = [\"Grown\", \"Moved\", \"Rotated\", \"Inverted\", \"Mirrored\", \"Close/Far Corners\", \"Close/Far Edges\", \"Stretched\", \"Shadows\", \"Gravity\", \"Count\"]\n",
    "seed_iteration = 0\n",
    "data = []"
   ]
  },
  {
   "cell_type": "code",
   "execution_count": null,
   "metadata": {},
   "outputs": [],
   "source": [
    "np.random.seed(22)\n",
    "im = create_image(10, shape=\"rectangle\")\n",
    "print(im)\n",
    "count_pixels(im, True, True)"
   ]
  },
  {
   "cell_type": "code",
   "execution_count": 2,
   "metadata": {},
   "outputs": [
    {
     "name": "stdout",
     "output_type": "stream",
     "text": [
      "0.1% double trios were duplicated\n",
      "(1100000, 6, 10, 10)\n"
     ]
    }
   ],
   "source": [
    "#make data\n",
    "for i in range(num_samples):    \n",
    "    trios = []\n",
    "    invalid_img = True\n",
    "    while invalid_img:\n",
    "        seed_iteration += 1\n",
    "        np.random.seed(seed_iteration)\n",
    "\n",
    "        #make 3 random images with rectangles\n",
    "        trio = [create_image(img_size = img_size, shape = shape) for _ in range(pairs_per_task)]\n",
    "\n",
    "        #sample parameters for analogies\n",
    "        mirror_horizontal = np.random.choice([True, False])\n",
    "        rotation_degree = np.random.choice([90, 180, 270])\n",
    "        grow_left = np.random.choice([0,0,1,2])\n",
    "        grow_right = np.random.choice([0,0,1,2])\n",
    "        grow_top = np.random.choice([0,0,1,2])\n",
    "        grow_bottom = np.random.choice([0,0,1,2])\n",
    "        move_vertical = np.random.choice([-2,-1,0,1,2])\n",
    "        move_horizontal = np.random.choice([-2,-1,0,1,2])\n",
    "        furthest_edge = np.random.choice([True, False])\n",
    "        furthest_corner = np.random.choice([True, False])\n",
    "        reverse_shadows = np.random.choice([True, False])\n",
    "        gravity_direction = np.random.choice([\"up\",\"down\",\"left\",\"right\"])\n",
    "        count_left_right = np.random.choice([True, False])\n",
    "        count_top_bottom = np.random.choice([True, False])\n",
    "\n",
    "        # Generate analogies\n",
    "        growths = [grow(img, grow_top, grow_bottom, grow_left, grow_right) for img in trio]\n",
    "        moves = [move(img, move_horizontal, move_vertical)  for img in trio]\n",
    "        rotations = [rotate_image(img, rotation_degree) for img in trio]\n",
    "        inversions = [invert_colors(img)  for img in trio]\n",
    "        mirrors = [mirror_image(img, horizontal=mirror_horizontal) for img in trio]\n",
    "        corner_cells = [paint_corner(img, furthest_corner) for img in trio]\n",
    "        edges = [paint_edge(img, furthest_edge) for img in trio]\n",
    "        stretches = [stretch_rectangle(img) for img in trio]\n",
    "        shadows = [draw_shadows(img, reverse_shadows)  for img in trio]\n",
    "        gravities = [gravity(img, gravity_direction)  for img in trio]\n",
    "        counts = [count_pixels(img, count_left_right, count_top_bottom) for img in trio]\n",
    "        \n",
    "        #check whether images violate rules (original three include duplicates; initial transformations left the canvas)\n",
    "        if np.array_equal(trio[0], trio[1]) or np.array_equal(trio[0], trio[2]) or np.array_equal(trio[1], trio[2]):\n",
    "            invalid_img = True\n",
    "        elif invalid_matrix(growths[0], img_size, img_size, 1):\n",
    "            invalid_img = True\n",
    "        elif invalid_matrix(growths[0], img_size, img_size, 1):\n",
    "            invalid_img = True\n",
    "        else:\n",
    "            invalid_img = False\n",
    "    \n",
    "    transformed_trios = [growths, moves, rotations, inversions, mirrors, corner_cells, edges, stretches, shadows, gravities, counts]\n",
    "    data.append([np.stack([trio, transformed_trio]) for transformed_trio in transformed_trios])\n",
    "\n",
    "data = np.array(data)\n",
    "\n",
    "long_data = data.reshape(data.shape[0]*data.shape[1], data.shape[2], data.shape[3], data.shape[4], data.shape[5])\n",
    "long_data = long_data.reshape(long_data.shape[0], long_data.shape[1] * long_data.shape[2], long_data.shape[3], long_data.shape[4])\n",
    "nonduplicates = np.unique(long_data, axis=0) #get rid of duplicated tasks; could be stricter by also considering flipped fewshot orders as duplicated\n",
    "print(f\"{np.round(100*(1 - nonduplicates.shape[0] / long_data.shape[0]),1)}% double trios were duplicated\") \n",
    "print(long_data.shape)"
   ]
  },
  {
   "cell_type": "code",
   "execution_count": 3,
   "metadata": {},
   "outputs": [],
   "source": [
    "with open(f\"nonduplicates_{shape}.pkl\", \"wb\") as f:\n",
    "    pickle.dump(nonduplicates, file=f)\n",
    "\n",
    "# with open(f\"nonduplicates_{shape}.pkl\", \"rb\") as f:\n",
    "#     nonduplicates = pickle.load(file=f)"
   ]
  },
  {
   "cell_type": "code",
   "execution_count": null,
   "metadata": {},
   "outputs": [],
   "source": [
    "for i in range(0, 2):\n",
    "    plot_double_trio(nonduplicates[i])"
   ]
  },
  {
   "cell_type": "code",
   "execution_count": 10,
   "metadata": {},
   "outputs": [
    {
     "name": "stdout",
     "output_type": "stream",
     "text": [
      "x_train shape: torch.Size([1093736, 5, 10, 10])\n",
      "y_train shape: torch.Size([1093736, 10, 10])\n",
      "x_test shape: torch.Size([5497, 5, 10, 10])\n",
      "y_test shape: torch.Size([5497, 10, 10])\n"
     ]
    }
   ],
   "source": [
    "# Split into input (x) and output (y)\n",
    "x_data = nonduplicates[:, :-1, :, :] / 255 # All but the last channel\n",
    "y_data = nonduplicates[:, -1, :, :] / 255  # Only the last channel\n",
    "\n",
    "# Convert to PyTorch tensors\n",
    "x_data = torch.from_numpy(x_data).float()\n",
    "y_data = torch.from_numpy(y_data).float()\n",
    "\n",
    "# Split into training and testing sets\n",
    "x_train, x_test, y_train, y_test = train_test_split(x_data, y_data, test_size=0.005, random_state=42)\n",
    "\n",
    "# Print the shapes of the resulting tensors\n",
    "print(\"x_train shape:\", x_train.shape)\n",
    "print(\"y_train shape:\", y_train.shape)\n",
    "print(\"x_test shape:\", x_test.shape)\n",
    "print(\"y_test shape:\", y_test.shape)\n",
    "\n",
    "batch_size = 512  # You can adjust the batch size as needed\n",
    "train_dataset = torch.utils.data.TensorDataset(x_train, y_train)\n",
    "train_loader = torch.utils.data.DataLoader(train_dataset, batch_size=batch_size, shuffle=True)"
   ]
  },
  {
   "cell_type": "code",
   "execution_count": 6,
   "metadata": {},
   "outputs": [],
   "source": [
    "#basic feed forward test\n",
    "class FullyConnectedNN(nn.Module):\n",
    "    def __init__(self):\n",
    "        super(FullyConnectedNN, self).__init__()\n",
    "        self.flatten = nn.Flatten()  \n",
    "        self.fc1 = nn.Linear(5 * 10 * 10, 200) \n",
    "        self.relu1 = nn.ReLU()  \n",
    "        self.fc2 = nn.Linear(200, 200) \n",
    "        self.relu2 = nn.ReLU() \n",
    "        self.fc3 = nn.Linear(200, 200) \n",
    "        self.relu3 = nn.ReLU() \n",
    "        self.fc4 = nn.Linear(200, 10 * 10) \n",
    "        self.sigmoid = nn.Sigmoid()\n",
    "\n",
    "    def forward(self, x):\n",
    "        x = self.flatten(x)\n",
    "        x = self.fc1(x)\n",
    "        x = self.relu1(x)\n",
    "        x = self.fc2(x)\n",
    "        x = self.relu2(x)\n",
    "        x = self.fc3(x)\n",
    "        x = self.relu3(x)\n",
    "        x = self.fc4(x)\n",
    "        x = self.sigmoid(x)\n",
    "        return x.view(-1, 10, 10)"
   ]
  },
  {
   "cell_type": "code",
   "execution_count": 13,
   "metadata": {},
   "outputs": [
    {
     "name": "stdout",
     "output_type": "stream",
     "text": [
      "Adjusting learning rate of group 0 to 1.0000e-03.\n",
      "Adjusting learning rate of group 0 to 9.9100e-04.\n",
      "Epoch [1/100], Loss: 0.1102, Test: 0.1060\n",
      "Adjusting learning rate of group 0 to 9.8200e-04.\n",
      "Epoch [2/100], Loss: 0.0729, Test: 0.0745\n",
      "Adjusting learning rate of group 0 to 9.7300e-04.\n",
      "Epoch [3/100], Loss: 0.0525, Test: 0.0557\n",
      "Adjusting learning rate of group 0 to 9.6400e-04.\n",
      "Epoch [4/100], Loss: 0.0404, Test: 0.0448\n",
      "Adjusting learning rate of group 0 to 9.5500e-04.\n",
      "Epoch [5/100], Loss: 0.0410, Test: 0.0384\n",
      "Adjusting learning rate of group 0 to 9.4600e-04.\n",
      "Epoch [6/100], Loss: 0.0354, Test: 0.0341\n",
      "Adjusting learning rate of group 0 to 9.3700e-04.\n",
      "Epoch [7/100], Loss: 0.0306, Test: 0.0308\n",
      "Adjusting learning rate of group 0 to 9.2800e-04.\n",
      "Epoch [8/100], Loss: 0.0378, Test: 0.0285\n",
      "Adjusting learning rate of group 0 to 9.1900e-04.\n",
      "Epoch [9/100], Loss: 0.0278, Test: 0.0270\n",
      "Adjusting learning rate of group 0 to 9.1000e-04.\n",
      "Epoch [10/100], Loss: 0.0217, Test: 0.0250\n",
      "Adjusting learning rate of group 0 to 9.0100e-04.\n",
      "Epoch [11/100], Loss: 0.0213, Test: 0.0229\n",
      "Adjusting learning rate of group 0 to 8.9200e-04.\n",
      "Epoch [12/100], Loss: 0.0200, Test: 0.0233\n",
      "Adjusting learning rate of group 0 to 8.8300e-04.\n",
      "Epoch [13/100], Loss: 0.0126, Test: 0.0208\n",
      "Adjusting learning rate of group 0 to 8.7400e-04.\n",
      "Epoch [14/100], Loss: 0.0172, Test: 0.0196\n",
      "Adjusting learning rate of group 0 to 8.6500e-04.\n",
      "Epoch [15/100], Loss: 0.0190, Test: 0.0197\n",
      "Adjusting learning rate of group 0 to 8.5600e-04.\n",
      "Epoch [16/100], Loss: 0.0147, Test: 0.0187\n",
      "Adjusting learning rate of group 0 to 8.4700e-04.\n",
      "Epoch [17/100], Loss: 0.0117, Test: 0.0180\n",
      "Adjusting learning rate of group 0 to 8.3800e-04.\n",
      "Epoch [18/100], Loss: 0.0135, Test: 0.0170\n",
      "Adjusting learning rate of group 0 to 8.2900e-04.\n",
      "Epoch [19/100], Loss: 0.0119, Test: 0.0172\n",
      "Adjusting learning rate of group 0 to 8.2000e-04.\n",
      "Epoch [20/100], Loss: 0.0122, Test: 0.0163\n",
      "Adjusting learning rate of group 0 to 8.1100e-04.\n",
      "Epoch [21/100], Loss: 0.0125, Test: 0.0157\n",
      "Adjusting learning rate of group 0 to 8.0200e-04.\n",
      "Epoch [22/100], Loss: 0.0126, Test: 0.0153\n",
      "Adjusting learning rate of group 0 to 7.9300e-04.\n",
      "Epoch [23/100], Loss: 0.0131, Test: 0.0163\n",
      "Adjusting learning rate of group 0 to 7.8400e-04.\n",
      "Epoch [24/100], Loss: 0.0128, Test: 0.0144\n",
      "Adjusting learning rate of group 0 to 7.7500e-04.\n",
      "Epoch [25/100], Loss: 0.0123, Test: 0.0142\n",
      "Adjusting learning rate of group 0 to 7.6600e-04.\n",
      "Epoch [26/100], Loss: 0.0110, Test: 0.0139\n",
      "Adjusting learning rate of group 0 to 7.5700e-04.\n",
      "Epoch [27/100], Loss: 0.0134, Test: 0.0133\n",
      "Adjusting learning rate of group 0 to 7.4800e-04.\n",
      "Epoch [28/100], Loss: 0.0125, Test: 0.0137\n",
      "Adjusting learning rate of group 0 to 7.3900e-04.\n",
      "Epoch [29/100], Loss: 0.0088, Test: 0.0128\n",
      "Adjusting learning rate of group 0 to 7.3000e-04.\n",
      "Epoch [30/100], Loss: 0.0093, Test: 0.0124\n",
      "Adjusting learning rate of group 0 to 7.2100e-04.\n",
      "Epoch [31/100], Loss: 0.0109, Test: 0.0131\n",
      "Adjusting learning rate of group 0 to 7.1200e-04.\n",
      "Epoch [32/100], Loss: 0.0099, Test: 0.0140\n",
      "Adjusting learning rate of group 0 to 7.0300e-04.\n",
      "Epoch [33/100], Loss: 0.0096, Test: 0.0127\n",
      "Adjusting learning rate of group 0 to 6.9400e-04.\n",
      "Epoch [34/100], Loss: 0.0091, Test: 0.0126\n",
      "Adjusting learning rate of group 0 to 6.8500e-04.\n",
      "Epoch [35/100], Loss: 0.0111, Test: 0.0129\n",
      "Adjusting learning rate of group 0 to 6.7600e-04.\n",
      "Epoch [36/100], Loss: 0.0064, Test: 0.0106\n",
      "Adjusting learning rate of group 0 to 6.6700e-04.\n",
      "Epoch [37/100], Loss: 0.0081, Test: 0.0129\n",
      "Adjusting learning rate of group 0 to 6.5800e-04.\n",
      "Epoch [38/100], Loss: 0.0112, Test: 0.0123\n",
      "Adjusting learning rate of group 0 to 6.4900e-04.\n",
      "Epoch [39/100], Loss: 0.0081, Test: 0.0109\n",
      "Adjusting learning rate of group 0 to 6.4000e-04.\n",
      "Epoch [40/100], Loss: 0.0096, Test: 0.0123\n",
      "Adjusting learning rate of group 0 to 6.3100e-04.\n",
      "Epoch [41/100], Loss: 0.0084, Test: 0.0121\n",
      "Adjusting learning rate of group 0 to 6.2200e-04.\n",
      "Epoch [42/100], Loss: 0.0047, Test: 0.0129\n",
      "Adjusting learning rate of group 0 to 6.1300e-04.\n",
      "Epoch [43/100], Loss: 0.0079, Test: 0.0118\n",
      "Adjusting learning rate of group 0 to 6.0400e-04.\n",
      "Epoch [44/100], Loss: 0.0075, Test: 0.0098\n",
      "Adjusting learning rate of group 0 to 5.9500e-04.\n",
      "Epoch [45/100], Loss: 0.0071, Test: 0.0097\n",
      "Adjusting learning rate of group 0 to 5.8600e-04.\n",
      "Epoch [46/100], Loss: 0.0052, Test: 0.0099\n",
      "Adjusting learning rate of group 0 to 5.7700e-04.\n",
      "Epoch [47/100], Loss: 0.0083, Test: 0.0113\n",
      "Adjusting learning rate of group 0 to 5.6800e-04.\n",
      "Epoch [48/100], Loss: 0.0074, Test: 0.0114\n",
      "Adjusting learning rate of group 0 to 5.5900e-04.\n",
      "Epoch [49/100], Loss: 0.0070, Test: 0.0114\n",
      "Adjusting learning rate of group 0 to 5.5000e-04.\n",
      "Epoch [50/100], Loss: 0.0050, Test: 0.0117\n",
      "Adjusting learning rate of group 0 to 5.4100e-04.\n",
      "Epoch [51/100], Loss: 0.0069, Test: 0.0113\n",
      "Adjusting learning rate of group 0 to 5.3200e-04.\n",
      "Epoch [52/100], Loss: 0.0098, Test: 0.0094\n",
      "Adjusting learning rate of group 0 to 5.2300e-04.\n",
      "Epoch [53/100], Loss: 0.0044, Test: 0.0097\n",
      "Adjusting learning rate of group 0 to 5.1400e-04.\n",
      "Epoch [54/100], Loss: 0.0087, Test: 0.0107\n",
      "Adjusting learning rate of group 0 to 5.0500e-04.\n",
      "Epoch [55/100], Loss: 0.0066, Test: 0.0088\n",
      "Adjusting learning rate of group 0 to 4.9600e-04.\n",
      "Epoch [56/100], Loss: 0.0071, Test: 0.0091\n",
      "Adjusting learning rate of group 0 to 4.8700e-04.\n",
      "Epoch [57/100], Loss: 0.0069, Test: 0.0085\n",
      "Adjusting learning rate of group 0 to 4.7800e-04.\n",
      "Epoch [58/100], Loss: 0.0060, Test: 0.0107\n",
      "Adjusting learning rate of group 0 to 4.6900e-04.\n",
      "Epoch [59/100], Loss: 0.0052, Test: 0.0085\n",
      "Adjusting learning rate of group 0 to 4.6000e-04.\n",
      "Epoch [60/100], Loss: 0.0042, Test: 0.0109\n",
      "Adjusting learning rate of group 0 to 4.5100e-04.\n",
      "Epoch [61/100], Loss: 0.0090, Test: 0.0084\n",
      "Adjusting learning rate of group 0 to 4.4200e-04.\n",
      "Epoch [62/100], Loss: 0.0062, Test: 0.0106\n",
      "Adjusting learning rate of group 0 to 4.3300e-04.\n",
      "Epoch [63/100], Loss: 0.0050, Test: 0.0087\n",
      "Adjusting learning rate of group 0 to 4.2400e-04.\n",
      "Epoch [64/100], Loss: 0.0043, Test: 0.0084\n",
      "Adjusting learning rate of group 0 to 4.1500e-04.\n",
      "Epoch [65/100], Loss: 0.0042, Test: 0.0097\n",
      "Adjusting learning rate of group 0 to 4.0600e-04.\n",
      "Epoch [66/100], Loss: 0.0063, Test: 0.0099\n",
      "Adjusting learning rate of group 0 to 3.9700e-04.\n",
      "Epoch [67/100], Loss: 0.0054, Test: 0.0094\n",
      "Adjusting learning rate of group 0 to 3.8800e-04.\n",
      "Epoch [68/100], Loss: 0.0052, Test: 0.0089\n",
      "Adjusting learning rate of group 0 to 3.7900e-04.\n",
      "Epoch [69/100], Loss: 0.0045, Test: 0.0099\n",
      "Adjusting learning rate of group 0 to 3.7000e-04.\n",
      "Epoch [70/100], Loss: 0.0065, Test: 0.0098\n",
      "Adjusting learning rate of group 0 to 3.6100e-04.\n",
      "Epoch [71/100], Loss: 0.0049, Test: 0.0085\n",
      "Adjusting learning rate of group 0 to 3.5200e-04.\n",
      "Epoch [72/100], Loss: 0.0028, Test: 0.0100\n",
      "Adjusting learning rate of group 0 to 3.4300e-04.\n",
      "Epoch [73/100], Loss: 0.0060, Test: 0.0096\n",
      "Adjusting learning rate of group 0 to 3.3400e-04.\n",
      "Epoch [74/100], Loss: 0.0058, Test: 0.0093\n",
      "Adjusting learning rate of group 0 to 3.2500e-04.\n",
      "Epoch [75/100], Loss: 0.0049, Test: 0.0083\n",
      "Adjusting learning rate of group 0 to 3.1600e-04.\n",
      "Epoch [76/100], Loss: 0.0043, Test: 0.0095\n",
      "Adjusting learning rate of group 0 to 3.0700e-04.\n",
      "Epoch [77/100], Loss: 0.0039, Test: 0.0095\n",
      "Adjusting learning rate of group 0 to 2.9800e-04.\n",
      "Epoch [78/100], Loss: 0.0029, Test: 0.0083\n",
      "Adjusting learning rate of group 0 to 2.8900e-04.\n",
      "Epoch [79/100], Loss: 0.0048, Test: 0.0092\n",
      "Adjusting learning rate of group 0 to 2.8000e-04.\n",
      "Epoch [80/100], Loss: 0.0031, Test: 0.0092\n",
      "Adjusting learning rate of group 0 to 2.7100e-04.\n",
      "Epoch [81/100], Loss: 0.0059, Test: 0.0092\n",
      "Adjusting learning rate of group 0 to 2.6200e-04.\n",
      "Epoch [82/100], Loss: 0.0027, Test: 0.0084\n",
      "Adjusting learning rate of group 0 to 2.5300e-04.\n",
      "Epoch [83/100], Loss: 0.0026, Test: 0.0091\n",
      "Adjusting learning rate of group 0 to 2.4400e-04.\n",
      "Epoch [84/100], Loss: 0.0031, Test: 0.0096\n",
      "Adjusting learning rate of group 0 to 2.3500e-04.\n",
      "Epoch [85/100], Loss: 0.0039, Test: 0.0090\n",
      "Adjusting learning rate of group 0 to 2.2600e-04.\n",
      "Epoch [86/100], Loss: 0.0050, Test: 0.0093\n",
      "Adjusting learning rate of group 0 to 2.1700e-04.\n",
      "Epoch [87/100], Loss: 0.0035, Test: 0.0092\n",
      "Adjusting learning rate of group 0 to 2.0800e-04.\n",
      "Epoch [88/100], Loss: 0.0051, Test: 0.0092\n",
      "Adjusting learning rate of group 0 to 1.9900e-04.\n",
      "Epoch [89/100], Loss: 0.0035, Test: 0.0089\n",
      "Adjusting learning rate of group 0 to 1.9000e-04.\n",
      "Epoch [90/100], Loss: 0.0032, Test: 0.0091\n",
      "Adjusting learning rate of group 0 to 1.8100e-04.\n",
      "Epoch [91/100], Loss: 0.0025, Test: 0.0089\n",
      "Adjusting learning rate of group 0 to 1.7200e-04.\n",
      "Epoch [92/100], Loss: 0.0040, Test: 0.0087\n",
      "Adjusting learning rate of group 0 to 1.6300e-04.\n",
      "Epoch [93/100], Loss: 0.0041, Test: 0.0090\n",
      "Adjusting learning rate of group 0 to 1.5400e-04.\n",
      "Epoch [94/100], Loss: 0.0054, Test: 0.0089\n",
      "Adjusting learning rate of group 0 to 1.4500e-04.\n",
      "Epoch [95/100], Loss: 0.0035, Test: 0.0090\n",
      "Adjusting learning rate of group 0 to 1.3600e-04.\n",
      "Epoch [96/100], Loss: 0.0031, Test: 0.0088\n",
      "Adjusting learning rate of group 0 to 1.2700e-04.\n",
      "Epoch [97/100], Loss: 0.0025, Test: 0.0086\n",
      "Adjusting learning rate of group 0 to 1.1800e-04.\n",
      "Epoch [98/100], Loss: 0.0033, Test: 0.0087\n",
      "Adjusting learning rate of group 0 to 1.0900e-04.\n",
      "Epoch [99/100], Loss: 0.0045, Test: 0.0086\n",
      "Adjusting learning rate of group 0 to 1.0000e-04.\n",
      "Epoch [100/100], Loss: 0.0028, Test: 0.0087\n"
     ]
    }
   ],
   "source": [
    "num_epochs = 100\n",
    "learning_rate = 0.001\n",
    "\n",
    "# Create an instance of the model\n",
    "model = FullyConnectedNN().to(device)\n",
    "\n",
    "# Define loss function and optimizer\n",
    "criterion = nn.BCELoss()\n",
    "optimizer = optim.Adam(model.parameters(), lr=learning_rate, weight_decay=0)\n",
    "scheduler = torch.optim.lr_scheduler.LinearLR(optimizer, start_factor=1, end_factor=0.1, total_iters=num_epochs, verbose=True)\n",
    "\n",
    "for epoch in range(num_epochs):\n",
    "    for (inputs, labels) in train_loader:\n",
    "        inputs, labels = inputs.to(device), labels.to(device)\n",
    "        model.train()\n",
    "        optimizer.zero_grad()\n",
    "        train_outputs = model(inputs)\n",
    "        loss = criterion(train_outputs, labels)\n",
    "        loss.backward()\n",
    "        optimizer.step()\n",
    "    scheduler.step()\n",
    "\n",
    "    model.eval()  # Set the model to evaluation mode\n",
    "    with torch.no_grad():\n",
    "        test_outputs = model(x_test)\n",
    "        test_loss = criterion(test_outputs, y_test)\n",
    "    print(f'Epoch [{epoch + 1}/{num_epochs}], Loss: {loss.item():.4f}, Test: {test_loss.item():.4f}')\n",
    "\n",
    "pytorch_total_params = sum(p.numel() for p in model.parameters() if p.requires_grad)\n",
    "print(f\"Nr params: {pytorch_total_params}\")\n",
    "torch.save(model.state_dict(), f'model_trained_on_{shape}.pth')"
   ]
  },
  {
   "cell_type": "code",
   "execution_count": 8,
   "metadata": {},
   "outputs": [
    {
     "data": {
      "text/plain": [
       "<All keys matched successfully>"
      ]
     },
     "execution_count": 8,
     "metadata": {},
     "output_type": "execute_result"
    }
   ],
   "source": [
    "model = FullyConnectedNN()\n",
    "model.load_state_dict(torch.load(f'model_trained_on_{shape}.pth'))"
   ]
  },
  {
   "cell_type": "code",
   "execution_count": 33,
   "metadata": {},
   "outputs": [
    {
     "name": "stdout",
     "output_type": "stream",
     "text": [
      "Test set example:\n"
     ]
    },
    {
     "data": {
      "text/plain": [
       "<Figure size 1200x400 with 0 Axes>"
      ]
     },
     "metadata": {},
     "output_type": "display_data"
    },
    {
     "data": {
      "image/png": "[encoded data removed]",
      "text/plain": [
       "<Figure size 640x480 with 6 Axes>"
      ]
     },
     "metadata": {},
     "output_type": "display_data"
    },
    {
     "name": "stdout",
     "output_type": "stream",
     "text": [
      "Prediction:\n"
     ]
    },
    {
     "data": {
      "image/png": "[encoded data removed]",
      "text/plain": [
       "<Figure size 700x300 with 2 Axes>"
      ]
     },
     "metadata": {},
     "output_type": "display_data"
    },
    {
     "name": "stdout",
     "output_type": "stream",
     "text": [
      "Most similar training case:\n"
     ]
    },
    {
     "data": {
      "text/plain": [
       "<Figure size 1200x400 with 0 Axes>"
      ]
     },
     "metadata": {},
     "output_type": "display_data"
    },
    {
     "data": {
      "image/png": "[encoded data removed]",
      "text/plain": [
       "<Figure size 640x480 with 6 Axes>"
      ]
     },
     "metadata": {},
     "output_type": "display_data"
    }
   ],
   "source": [
    "plot_exmp = 2\n",
    "with torch.no_grad():\n",
    "    print(\"Test set example:\")\n",
    "    y  = y_test[plot_exmp].expand(1, y_test[plot_exmp].shape[0], y_test[plot_exmp].shape[1])\n",
    "    example = torch.row_stack((x_test[plot_exmp], y))\n",
    "    plot_double_trio(example)\n",
    "\n",
    "    print(\"Prediction:\")\n",
    "    tensor = model(x_test[plot_exmp].unsqueeze(0))[0]\n",
    "    fig, axs = plt.subplots(1, 2, figsize=(7, 3))  # 1 row, 2 columns\n",
    "    axs[0].set_title(\"Non-binarized (grayscale)\")\n",
    "    axs[0].imshow(tensor, cmap='gray')\n",
    "    axs[0].axis('off')\n",
    "    axs[1].set_title(\"Binarized (b/w)\")\n",
    "    axs[1].imshow(torch.round(tensor), cmap='gray')\n",
    "    axs[1].axis('off')\n",
    "    plt.tight_layout()\n",
    "    plt.show()\n",
    "    \n",
    "    print(\"Most similar training case:\")\n",
    "    distances = [torch.sum(torch.abs(x_test[plot_exmp] - np.array(x_train[i]))).item() for i in range(x_train.shape[0])]\n",
    "    sim_index = np.argmin(distances)\n",
    "    y  = y_train[sim_index].expand(1, y_train[sim_index].shape[0], y_train[sim_index].shape[1])\n",
    "    plot_double_trio(torch.row_stack((x_train[sim_index], y)))"
   ]
  },
  {
   "cell_type": "code",
   "execution_count": 4,
   "metadata": {},
   "outputs": [],
   "source": [
    "#predict on other datafile (e.g. differently shaped figures)\n",
    "test_shape = \"rectangle\"\n",
    "\n",
    "with open(f\"nonduplicates_{test_shape}.pkl\", \"rb\") as f:\n",
    "    added_test_data = pickle.load(file=f)\n",
    "\n",
    "added_x_data = added_test_data[:, :-1, :, :] / 255 # All but the last channel\n",
    "added_y_data = added_test_data[:, -1, :, :] / 255  # Only the last channel\n",
    "\n",
    "# Convert to PyTorch tensors\n",
    "added_x_data = torch.from_numpy(added_x_data).float()\n",
    "added_y_data = torch.from_numpy(added_y_data).float()"
   ]
  },
  {
   "cell_type": "code",
   "execution_count": 14,
   "metadata": {},
   "outputs": [
    {
     "name": "stdout",
     "output_type": "stream",
     "text": [
      "Example from additional dataset:\n"
     ]
    },
    {
     "data": {
      "text/plain": [
       "<Figure size 1200x400 with 0 Axes>"
      ]
     },
     "metadata": {},
     "output_type": "display_data"
    },
    {
     "data": {
      "image/png": "[encoded data removed]",
      "text/plain": [
       "<Figure size 640x480 with 6 Axes>"
      ]
     },
     "metadata": {},
     "output_type": "display_data"
    },
    {
     "name": "stdout",
     "output_type": "stream",
     "text": [
      "Prediction:\n"
     ]
    },
    {
     "data": {
      "image/png": "[encoded data removed]",
      "text/plain": [
       "<Figure size 700x300 with 2 Axes>"
      ]
     },
     "metadata": {},
     "output_type": "display_data"
    }
   ],
   "source": [
    "#predict on other datafile (e.g. differently shaped figures)\n",
    "plot_exmp = 33\n",
    "with torch.no_grad():\n",
    "    print(\"Example from additional dataset:\")\n",
    "    added_y  = added_y_data[plot_exmp].expand(1, added_y_data[plot_exmp].shape[0], added_y_data[plot_exmp].shape[1])\n",
    "    example = torch.row_stack((added_x_data[plot_exmp], added_y))\n",
    "    plot_double_trio(example)\n",
    "\n",
    "    print(\"Prediction:\")\n",
    "    tensor = model(added_x_data[plot_exmp].unsqueeze(0))[0]\n",
    "    fig, axs = plt.subplots(1, 2, figsize=(7, 3))  # 1 row, 2 columns\n",
    "    axs[0].set_title(\"Non-binarized (grayscale)\")\n",
    "    axs[0].imshow(tensor, cmap='gray')\n",
    "    axs[0].axis('off')\n",
    "    axs[1].set_title(\"Binarized (b/w)\")\n",
    "    axs[1].imshow(torch.round(tensor), cmap='gray')\n",
    "    axs[1].axis('off')\n",
    "    plt.tight_layout()\n",
    "    plt.show()"
   ]
  }
 ],
 "metadata": {
  "kernelspec": {
   "display_name": "venv",
   "language": "python",
   "name": "python3"
  },
  "language_info": {
   "codemirror_mode": {
    "name": "ipython",
    "version": 3
   },
   "file_extension": ".py",
   "mimetype": "text/x-python",
   "name": "python",
   "nbconvert_exporter": "python",
   "pygments_lexer": "ipython3",
   "version": "3.11.0"
  }
 },
 "nbformat": 4,
 "nbformat_minor": 2
}
