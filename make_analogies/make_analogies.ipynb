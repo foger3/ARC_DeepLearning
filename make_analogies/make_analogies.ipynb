{
 "cells": [
  {
   "cell_type": "code",
   "execution_count": 1,
   "metadata": {},
   "outputs": [],
   "source": [
    "make_new_data = True\n",
    "train_new_model = True\n",
    "log_wandb = True\n",
    "\n",
    "import numpy as np\n",
    "np.random.seed(42)\n",
    "\n",
    "import torch\n",
    "torch.manual_seed(42)\n",
    "import torch.nn as nn\n",
    "import torch.optim as optim\n",
    "device = torch.device(\"cuda:0\" if torch.cuda.is_available() else \"cpu\")\n",
    "\n",
    "import pickle\n",
    "import wandb\n",
    "from sklearn.model_selection import train_test_split\n",
    "\n",
    "from make_analogies_functions import *\n",
    "\n",
    "num_samples = 100000 #each sample is a trio of images of which each comes in various forms (analogous transformations).\n",
    "img_size = 10\n",
    "pairs_per_task = 3\n",
    "shape = \"rectangle\" #rectangle or L\n",
    "all_images = []\n",
    "method_names = [\"Grown\", \"Moved\", \"Rotated\", \"Inverted\", \"Mirrored\", \"Close/Far Corners\", \"Close/Far Edges\", \"Stretched\", \"Shadows\", \"Gravity\", \"Count\"]\n",
    "seed_iteration = 0\n",
    "data = []\n",
    "num_epochs = 80\n",
    "batch_size = 512\n",
    "learning_rate = 0.001\n",
    "use_lr_scheduler = False"
   ]
  },
  {
   "cell_type": "code",
   "execution_count": 2,
   "metadata": {},
   "outputs": [
    {
     "name": "stdout",
     "output_type": "stream",
     "text": [
      "0.1% double trios were duplicated\n",
      "(1100000, 6, 10, 10)\n"
     ]
    }
   ],
   "source": [
    "if make_new_data:\n",
    "    for i in range(num_samples):    \n",
    "        trios = []\n",
    "        invalid_img = True\n",
    "        while invalid_img:\n",
    "            seed_iteration += 1\n",
    "            np.random.seed(seed_iteration)\n",
    "\n",
    "            #make 3 random images with rectangles\n",
    "            trio = [create_image(img_size = img_size, shape = shape) for _ in range(pairs_per_task)]\n",
    "\n",
    "            #sample parameters for analogies\n",
    "            mirror_horizontal = np.random.choice([True, False])\n",
    "            rotation_degree = np.random.choice([90, 180, 270])\n",
    "            grow_left = np.random.choice([0,0,1,2])\n",
    "            grow_right = np.random.choice([0,0,1,2])\n",
    "            grow_top = np.random.choice([0,0,1,2])\n",
    "            grow_bottom = np.random.choice([0,0,1,2])\n",
    "            move_vertical = np.random.choice([-2,-1,0,1,2])\n",
    "            move_horizontal = np.random.choice([-2,-1,0,1,2])\n",
    "            furthest_edge = np.random.choice([True, False])\n",
    "            furthest_corner = np.random.choice([True, False])\n",
    "            reverse_shadows = np.random.choice([True, False])\n",
    "            gravity_direction = np.random.choice([\"up\",\"down\",\"left\",\"right\"])\n",
    "            count_left_right = np.random.choice([True, False])\n",
    "            count_top_bottom = np.random.choice([True, False])\n",
    "\n",
    "            # Generate analogies\n",
    "            growths = [grow(img, grow_top, grow_bottom, grow_left, grow_right) for img in trio]\n",
    "            moves = [move(img, move_horizontal, move_vertical)  for img in trio]\n",
    "            rotations = [rotate_image(img, rotation_degree) for img in trio]\n",
    "            inversions = [invert_colors(img)  for img in trio]\n",
    "            mirrors = [mirror_image(img, horizontal=mirror_horizontal) for img in trio]\n",
    "            corner_cells = [paint_corner(img, furthest_corner) for img in trio]\n",
    "            edges = [paint_edge(img, furthest_edge) for img in trio]\n",
    "            stretches = [stretch_rectangle(img) for img in trio]\n",
    "            shadows = [draw_shadows(img, reverse_shadows)  for img in trio]\n",
    "            gravities = [gravity(img, gravity_direction)  for img in trio]\n",
    "            counts = [count_pixels(img, count_left_right, count_top_bottom) for img in trio]\n",
    "            \n",
    "            #check whether images violate rules (original three include duplicates; initial transformations left the canvas)\n",
    "            if np.array_equal(trio[0], trio[1]) or np.array_equal(trio[0], trio[2]) or np.array_equal(trio[1], trio[2]):\n",
    "                invalid_img = True\n",
    "            elif invalid_matrix(moves[0], img_size, img_size, 1):\n",
    "                invalid_img = True\n",
    "            elif invalid_matrix(growths[0], img_size, img_size, 1):\n",
    "                invalid_img = True\n",
    "            else:\n",
    "                invalid_img = False\n",
    "        \n",
    "        transformed_trios = [growths, moves, rotations, inversions, mirrors, corner_cells, edges, stretches, shadows, gravities, counts]\n",
    "        data.append([np.stack([trio, transformed_trio]) for transformed_trio in transformed_trios])\n",
    "\n",
    "    data = np.array(data)\n",
    "\n",
    "    long_data = data.reshape(data.shape[0]*data.shape[1], data.shape[2], data.shape[3], data.shape[4], data.shape[5])\n",
    "    long_data = long_data.reshape(long_data.shape[0], long_data.shape[1] * long_data.shape[2], long_data.shape[3], long_data.shape[4])\n",
    "    method_index = np.tile(method_names, num_samples)\n",
    "    nonduplicates, unique_ind = np.unique(long_data, axis=0, return_index=True) #get rid of duplicated tasks; could be stricter by also considering flipped fewshot orders as duplicated\n",
    "    method_index = method_index[unique_ind]\n",
    "    print(f\"{np.round(100*(1 - nonduplicates.shape[0] / long_data.shape[0]), 1)}% double trios were duplicated\") \n",
    "    print(long_data.shape)"
   ]
  },
  {
   "cell_type": "code",
   "execution_count": 3,
   "metadata": {},
   "outputs": [
    {
     "name": "stdout",
     "output_type": "stream",
     "text": [
      "Count\n"
     ]
    },
    {
     "data": {
      "text/plain": [
       "<Figure size 1200x400 with 0 Axes>"
      ]
     },
     "metadata": {},
     "output_type": "display_data"
    },
    {
     "data": {
      "image/png": "[encoded data removed]",
      "text/plain": [
       "<Figure size 640x480 with 6 Axes>"
      ]
     },
     "metadata": {},
     "output_type": "display_data"
    }
   ],
   "source": [
    "print(method_index[10978])\n",
    "plot_double_trio(nonduplicates[10978])"
   ]
  },
  {
   "cell_type": "code",
   "execution_count": 4,
   "metadata": {},
   "outputs": [],
   "source": [
    "if make_new_data:\n",
    "    with open(f\"nonduplicates_{shape}.pkl\", \"wb\") as f:\n",
    "        pickle.dump(nonduplicates, file=f)\n",
    "    with open(f\"method_index_{shape}.pkl\", \"wb\") as f:\n",
    "        pickle.dump(method_index, file=f)\n",
    "else:\n",
    "    with open(f\"nonduplicates_{shape}.pkl\", \"rb\") as f:\n",
    "        nonduplicates = pickle.load(file=f)\n",
    "    with open(f\"method_index_{shape}.pkl\", \"rb\") as f:\n",
    "        method_index = pickle.load(file=f)"
   ]
  },
  {
   "cell_type": "code",
   "execution_count": 5,
   "metadata": {},
   "outputs": [
    {
     "name": "stdout",
     "output_type": "stream",
     "text": [
      "x_train: torch.Size([1093500, 5, 10, 10]),\n",
      "y_train: torch.Size([1093500, 10, 10]),\n",
      "x_test: torch.Size([5495, 5, 10, 10]),\n",
      "y_test: torch.Size([5495, 10, 10])\n",
      "train methods: ['Shadows' 'Count' 'Inverted']\n",
      "test methods: ['Gravity' 'Close/Far Edges' 'Grown']\n"
     ]
    }
   ],
   "source": [
    "# Split into input (x) and output (y)\n",
    "x_data = nonduplicates[:, :-1, :, :] / 255 # All but the last channel\n",
    "y_data = nonduplicates[:, -1, :, :] / 255  # Only the last channel\n",
    "x_data = torch.from_numpy(x_data).float()\n",
    "y_data = torch.from_numpy(y_data).float()\n",
    "x_train, x_test, y_train, y_test, methods_train, methods_test = train_test_split(x_data, y_data, method_index, test_size=0.005, random_state=42)\n",
    "print(f\"x_train: {x_train.shape},\\ny_train: {y_train.shape},\\nx_test: {x_test.shape},\\ny_test: {y_test.shape}\")\n",
    "print(f\"train methods: {methods_train[0:3]}\")\n",
    "print(f\"test methods: {methods_test[0:3]}\")\n",
    "train_dataset = torch.utils.data.TensorDataset(x_train, y_train)\n",
    "train_loader = torch.utils.data.DataLoader(train_dataset, batch_size=batch_size, shuffle=True)"
   ]
  },
  {
   "cell_type": "code",
   "execution_count": 6,
   "metadata": {},
   "outputs": [],
   "source": [
    "%%capture\n",
    "if train_new_model and log_wandb:\n",
    "    wandb.init(\n",
    "        project=\"simpleARC\",\n",
    "        config={\n",
    "        \"architecture\": FullyConnectedNN,\n",
    "        \"shape\": shape,\n",
    "        \"img_size\": img_size,\n",
    "        \"pairs_per_task\": pairs_per_task,\n",
    "        \"analogies\": method_names,\n",
    "        \"epochs\": num_epochs,\n",
    "        \"learning_rate\": learning_rate,\n",
    "        \"use_lr_scheduler\": use_lr_scheduler})"
   ]
  },
  {
   "cell_type": "code",
   "execution_count": 7,
   "metadata": {},
   "outputs": [
    {
     "name": "stdout",
     "output_type": "stream",
     "text": [
      "Nr params: 200700\n",
      "Epoch [1/80], Loss: 0.0808, Test: 0.0782, %solved: 26.22\n",
      "Epoch [2/80], Loss: 0.0505, Test: 0.0489, %solved: 45.88\n",
      "Epoch [3/80], Loss: 0.0358, Test: 0.0355, %solved: 56.25\n",
      "Epoch [4/80], Loss: 0.0243, Test: 0.0280, %solved: 63.75\n",
      "Epoch [5/80], Loss: 0.0286, Test: 0.0228, %solved: 69.46\n",
      "Epoch [6/80], Loss: 0.0182, Test: 0.0198, %solved: 71.45\n",
      "Epoch [7/80], Loss: 0.0180, Test: 0.0166, %solved: 75.20\n",
      "Epoch [8/80], Loss: 0.0123, Test: 0.0148, %solved: 77.16\n",
      "Epoch [9/80], Loss: 0.0127, Test: 0.0142, %solved: 78.71\n",
      "Epoch [10/80], Loss: 0.0133, Test: 0.0123, %solved: 80.93\n",
      "Epoch [11/80], Loss: 0.0112, Test: 0.0117, %solved: 82.44\n",
      "Epoch [12/80], Loss: 0.0077, Test: 0.0110, %solved: 82.53\n",
      "Epoch [13/80], Loss: 0.0086, Test: 0.0099, %solved: 83.86\n",
      "Epoch [14/80], Loss: 0.0080, Test: 0.0095, %solved: 85.51\n",
      "Epoch [15/80], Loss: 0.0049, Test: 0.0083, %solved: 85.82\n",
      "Epoch [16/80], Loss: 0.0073, Test: 0.0085, %solved: 87.01\n",
      "Epoch [17/80], Loss: 0.0076, Test: 0.0082, %solved: 87.90\n",
      "Epoch [18/80], Loss: 0.0069, Test: 0.0091, %solved: 86.33\n",
      "Epoch [19/80], Loss: 0.0056, Test: 0.0070, %solved: 88.90\n",
      "Epoch [20/80], Loss: 0.0059, Test: 0.0074, %solved: 89.39\n",
      "Epoch [21/80], Loss: 0.0064, Test: 0.0065, %solved: 89.19\n",
      "Epoch [22/80], Loss: 0.0068, Test: 0.0072, %solved: 89.15\n",
      "Epoch [23/80], Loss: 0.0055, Test: 0.0061, %solved: 91.30\n",
      "Epoch [24/80], Loss: 0.0040, Test: 0.0064, %solved: 90.41\n",
      "Epoch [25/80], Loss: 0.0043, Test: 0.0057, %solved: 90.68\n",
      "Epoch [26/80], Loss: 0.0045, Test: 0.0058, %solved: 91.41\n",
      "Epoch [27/80], Loss: 0.0053, Test: 0.0063, %solved: 91.50\n",
      "Epoch [28/80], Loss: 0.0026, Test: 0.0058, %solved: 91.61\n",
      "Epoch [29/80], Loss: 0.0039, Test: 0.0064, %solved: 91.14\n",
      "Epoch [30/80], Loss: 0.0034, Test: 0.0068, %solved: 90.61\n",
      "Epoch [31/80], Loss: 0.0041, Test: 0.0065, %solved: 91.70\n",
      "Epoch [32/80], Loss: 0.0058, Test: 0.0063, %solved: 92.30\n",
      "Epoch [33/80], Loss: 0.0031, Test: 0.0053, %solved: 92.08\n",
      "Epoch [34/80], Loss: 0.0068, Test: 0.0056, %solved: 92.78\n",
      "Epoch [35/80], Loss: 0.0021, Test: 0.0054, %solved: 92.72\n",
      "Epoch [36/80], Loss: 0.0027, Test: 0.0057, %solved: 92.90\n",
      "Epoch [37/80], Loss: 0.0057, Test: 0.0057, %solved: 92.54\n",
      "Epoch [38/80], Loss: 0.0028, Test: 0.0063, %solved: 93.05\n",
      "Epoch [39/80], Loss: 0.0032, Test: 0.0056, %solved: 93.07\n",
      "Epoch [40/80], Loss: 0.0046, Test: 0.0057, %solved: 93.43\n",
      "Epoch [41/80], Loss: 0.0033, Test: 0.0062, %solved: 93.72\n",
      "Epoch [42/80], Loss: 0.0043, Test: 0.0045, %solved: 93.94\n",
      "Epoch [43/80], Loss: 0.0045, Test: 0.0058, %solved: 93.16\n",
      "Epoch [44/80], Loss: 0.0027, Test: 0.0059, %solved: 93.41\n",
      "Epoch [45/80], Loss: 0.0022, Test: 0.0047, %solved: 93.94\n",
      "Epoch [46/80], Loss: 0.0022, Test: 0.0072, %solved: 93.61\n",
      "Epoch [47/80], Loss: 0.0039, Test: 0.0054, %solved: 93.96\n",
      "Epoch [48/80], Loss: 0.0043, Test: 0.0055, %solved: 94.56\n",
      "Epoch [49/80], Loss: 0.0023, Test: 0.0055, %solved: 94.10\n",
      "Epoch [50/80], Loss: 0.0037, Test: 0.0046, %solved: 94.23\n",
      "Epoch [51/80], Loss: 0.0042, Test: 0.0049, %solved: 94.05\n",
      "Epoch [52/80], Loss: 0.0021, Test: 0.0042, %solved: 94.49\n",
      "Epoch [53/80], Loss: 0.0048, Test: 0.0057, %solved: 92.50\n",
      "Epoch [54/80], Loss: 0.0050, Test: 0.0048, %solved: 94.23\n",
      "Epoch [55/80], Loss: 0.0036, Test: 0.0049, %solved: 94.23\n",
      "Epoch [56/80], Loss: 0.0029, Test: 0.0050, %solved: 94.76\n",
      "Epoch [57/80], Loss: 0.0026, Test: 0.0051, %solved: 95.12\n",
      "Epoch [58/80], Loss: 0.0030, Test: 0.0054, %solved: 93.50\n",
      "Epoch [59/80], Loss: 0.0014, Test: 0.0050, %solved: 94.38\n",
      "Epoch [60/80], Loss: 0.0033, Test: 0.0048, %solved: 95.20\n",
      "Epoch [61/80], Loss: 0.0033, Test: 0.0060, %solved: 94.67\n",
      "Epoch [62/80], Loss: 0.0024, Test: 0.0041, %solved: 95.49\n",
      "Epoch [63/80], Loss: 0.0009, Test: 0.0047, %solved: 95.00\n",
      "Epoch [64/80], Loss: 0.0013, Test: 0.0041, %solved: 95.29\n",
      "Epoch [65/80], Loss: 0.0026, Test: 0.0064, %solved: 94.27\n",
      "Epoch [66/80], Loss: 0.0017, Test: 0.0057, %solved: 94.76\n",
      "Epoch [67/80], Loss: 0.0057, Test: 0.0042, %solved: 95.03\n",
      "Epoch [68/80], Loss: 0.0018, Test: 0.0038, %solved: 95.83\n",
      "Epoch [69/80], Loss: 0.0013, Test: 0.0048, %solved: 95.71\n",
      "Epoch [70/80], Loss: 0.0042, Test: 0.0065, %solved: 94.01\n",
      "Epoch [71/80], Loss: 0.0015, Test: 0.0036, %solved: 95.32\n",
      "Epoch [72/80], Loss: 0.0016, Test: 0.0054, %solved: 95.23\n",
      "Epoch [73/80], Loss: 0.0021, Test: 0.0051, %solved: 95.14\n",
      "Epoch [74/80], Loss: 0.0029, Test: 0.0041, %solved: 95.83\n",
      "Epoch [75/80], Loss: 0.0012, Test: 0.0050, %solved: 95.32\n",
      "Epoch [76/80], Loss: 0.0025, Test: 0.0049, %solved: 95.81\n",
      "Epoch [77/80], Loss: 0.0014, Test: 0.0053, %solved: 95.74\n",
      "Epoch [78/80], Loss: 0.0016, Test: 0.0045, %solved: 95.81\n",
      "Epoch [79/80], Loss: 0.0015, Test: 0.0070, %solved: 94.70\n",
      "Epoch [80/80], Loss: 0.0010, Test: 0.0046, %solved: 95.67\n"
     ]
    }
   ],
   "source": [
    "torch.manual_seed(42)\n",
    "if train_new_model:\n",
    "    model = FullyConnectedNN().to(device)\n",
    "    print(f\"Nr params: {sum(p.numel() for p in model.parameters() if p.requires_grad)}\")\n",
    "\n",
    "    criterion = nn.BCELoss()\n",
    "    optimizer = optim.Adam(model.parameters(), lr=learning_rate, weight_decay=0)\n",
    "    if use_lr_scheduler:\n",
    "        scheduler = torch.optim.lr_scheduler.LinearLR(optimizer, start_factor=1, end_factor=0.1, total_iters=num_epochs, verbose=True)\n",
    "\n",
    "    for epoch in range(num_epochs):\n",
    "        for (inputs, labels) in train_loader:\n",
    "            inputs, labels = inputs.to(device), labels.to(device)\n",
    "            model.train()\n",
    "            optimizer.zero_grad()\n",
    "            train_outputs = model(inputs)\n",
    "            loss = criterion(train_outputs, labels)\n",
    "            loss.backward()\n",
    "            optimizer.step()\n",
    "        if use_lr_scheduler:\n",
    "            scheduler.step()\n",
    "\n",
    "        test_metrics = get_test_metrics(x_test, y_test, model, criterion, methods_test, True)\n",
    "        print(f'Epoch [{epoch + 1}/{num_epochs}], Loss: {loss.item():.4f}, Test: {test_metrics[\"test loss\"]:.4f}, %solved: {test_metrics[\"percent_solved\"]:.2f}')\n",
    "        if log_wandb:\n",
    "            wandb.log({\"epoch\": epoch + 1, \"train Loss\": loss.item()} | test_metrics)\n",
    "\n",
    "    torch.save(model.state_dict(), f'model_trained_on_{shape}.pth')\n",
    "else:\n",
    "    model = FullyConnectedNN()\n",
    "    model.load_state_dict(torch.load(f'model_trained_on_{shape}.pth'))"
   ]
  },
  {
   "cell_type": "code",
   "execution_count": 8,
   "metadata": {},
   "outputs": [
    {
     "name": "stdout",
     "output_type": "stream",
     "text": [
      "Test set example:\n"
     ]
    },
    {
     "data": {
      "text/plain": [
       "<Figure size 1200x400 with 0 Axes>"
      ]
     },
     "metadata": {},
     "output_type": "display_data"
    },
    {
     "data": {
      "image/png": "[encoded data removed]",
      "text/plain": [
       "<Figure size 640x480 with 6 Axes>"
      ]
     },
     "metadata": {},
     "output_type": "display_data"
    },
    {
     "name": "stdout",
     "output_type": "stream",
     "text": [
      "Prediction:\n"
     ]
    },
    {
     "data": {
      "image/png": "[encoded data removed]",
      "text/plain": [
       "<Figure size 700x300 with 2 Axes>"
      ]
     },
     "metadata": {},
     "output_type": "display_data"
    },
    {
     "name": "stdout",
     "output_type": "stream",
     "text": [
      "Most similar training case:\n"
     ]
    },
    {
     "data": {
      "text/plain": [
       "<Figure size 1200x400 with 0 Axes>"
      ]
     },
     "metadata": {},
     "output_type": "display_data"
    },
    {
     "data": {
      "image/png": "[encoded data removed]",
      "text/plain": [
       "<Figure size 640x480 with 6 Axes>"
      ]
     },
     "metadata": {},
     "output_type": "display_data"
    }
   ],
   "source": [
    "plot_exmp = 0\n",
    "with torch.no_grad():\n",
    "    print(\"Test set example:\")\n",
    "    y  = y_test[plot_exmp].expand(1, y_test[plot_exmp].shape[0], y_test[plot_exmp].shape[1])\n",
    "    example = torch.row_stack((x_test[plot_exmp], y))\n",
    "    plot_double_trio(example)\n",
    "\n",
    "    print(\"Prediction:\")\n",
    "    tensor = model(x_test[plot_exmp].unsqueeze(0))[0]\n",
    "    fig, axs = plt.subplots(1, 2, figsize=(7, 3))  # 1 row, 2 columns\n",
    "    axs[0].set_title(\"Non-binarized (grayscale)\")\n",
    "    axs[0].imshow(tensor, cmap='gray')\n",
    "    axs[0].axis('off')\n",
    "    axs[1].set_title(\"Binarized (b/w)\")\n",
    "    axs[1].imshow(torch.round(tensor), cmap='gray')\n",
    "    axs[1].axis('off')\n",
    "    plt.tight_layout()\n",
    "    plt.show()\n",
    "    \n",
    "    print(\"Most similar training case:\")\n",
    "    distances = [torch.sum(torch.abs(x_test[plot_exmp] - np.array(x_train[i]))).item() for i in range(x_train.shape[0])]\n",
    "    sim_index = np.argmin(distances)\n",
    "    y  = y_train[sim_index].expand(1, y_train[sim_index].shape[0], y_train[sim_index].shape[1])\n",
    "    plot_double_trio(torch.row_stack((x_train[sim_index], y)))"
   ]
  },
  {
   "cell_type": "code",
   "execution_count": 12,
   "metadata": {},
   "outputs": [],
   "source": [
    "#predict on other datafile (e.g. differently shaped figures)\n",
    "test_shape = \"L\"\n",
    "with open(f\"nonduplicates_{test_shape}.pkl\", \"rb\") as f:\n",
    "    added_test_data = pickle.load(file=f)\n",
    "with open(f\"method_index_{test_shape}.pkl\", \"rb\") as f:\n",
    "    methods_from_added_data = pickle.load(file=f)\n",
    "added_x_data = added_test_data[:, :-1, :, :] / 255 # All but the last channel\n",
    "added_y_data = added_test_data[:, -1, :, :] / 255  # Only the last channel\n",
    "added_x_data = torch.from_numpy(added_x_data).float()\n",
    "added_y_data = torch.from_numpy(added_y_data).float()"
   ]
  },
  {
   "cell_type": "code",
   "execution_count": 13,
   "metadata": {},
   "outputs": [
    {
     "name": "stdout",
     "output_type": "stream",
     "text": [
      "Example from additional dataset:\n"
     ]
    },
    {
     "data": {
      "text/plain": [
       "<Figure size 1200x400 with 0 Axes>"
      ]
     },
     "metadata": {},
     "output_type": "display_data"
    },
    {
     "data": {
      "image/png": "[encoded data removed]",
      "text/plain": [
       "<Figure size 640x480 with 6 Axes>"
      ]
     },
     "metadata": {},
     "output_type": "display_data"
    },
    {
     "name": "stdout",
     "output_type": "stream",
     "text": [
      "Prediction:\n"
     ]
    },
    {
     "data": {
      "image/png": "[encoded data removed]",
      "text/plain": [
       "<Figure size 700x300 with 2 Axes>"
      ]
     },
     "metadata": {},
     "output_type": "display_data"
    }
   ],
   "source": [
    "#predict on other datafile (e.g. differently shaped figures)\n",
    "plot_exmp = 0\n",
    "with torch.no_grad():\n",
    "    print(\"Example from additional dataset:\")\n",
    "    added_y  = added_y_data[plot_exmp].expand(1, added_y_data[plot_exmp].shape[0], added_y_data[plot_exmp].shape[1])\n",
    "    example = torch.row_stack((added_x_data[plot_exmp], added_y))\n",
    "    plot_double_trio(example)\n",
    "    print(\"Prediction:\")\n",
    "    tensor = model(added_x_data[plot_exmp].unsqueeze(0))[0]\n",
    "    fig, axs = plt.subplots(1, 2, figsize=(7, 3))  # 1 row, 2 columns\n",
    "    axs[0].set_title(\"Non-binarized (grayscale)\")\n",
    "    axs[0].imshow(tensor, cmap='gray')\n",
    "    axs[0].axis('off')\n",
    "    axs[1].set_title(\"Binarized (b/w)\")\n",
    "    axs[1].imshow(torch.round(tensor), cmap='gray')\n",
    "    axs[1].axis('off')\n",
    "    plt.tight_layout()\n",
    "    plt.show()"
   ]
  },
  {
   "cell_type": "code",
   "execution_count": 14,
   "metadata": {},
   "outputs": [
    {
     "data": {
      "text/plain": [
       "{'test loss': 0.6366866230964661,\n",
       " 'percent_solved': 22.492602823483168,\n",
       " 'Close/Far Corners': 2.4360243602436027,\n",
       " 'Close/Far Edges': 3.988039880398804,\n",
       " 'Count': 63.47663476634766,\n",
       " 'Gravity': 3.64,\n",
       " 'Grown': 2.994,\n",
       " 'Inverted': 20.90420904209042,\n",
       " 'Mirrored': 2.6270262702627023,\n",
       " 'Moved': 5.029523088569265,\n",
       " 'Rotated': 2.957029570295703,\n",
       " 'Shadows': 82.116,\n",
       " 'Stretched': 57.088570885708855}"
      ]
     },
     "execution_count": 14,
     "metadata": {},
     "output_type": "execute_result"
    }
   ],
   "source": [
    "get_test_metrics(added_x_data, added_y_data, model, criterion, methods_from_added_data, True)"
   ]
  }
 ],
 "metadata": {
  "kernelspec": {
   "display_name": "venv",
   "language": "python",
   "name": "python3"
  },
  "language_info": {
   "codemirror_mode": {
    "name": "ipython",
    "version": 3
   },
   "file_extension": ".py",
   "mimetype": "text/x-python",
   "name": "python",
   "nbconvert_exporter": "python",
   "pygments_lexer": "ipython3",
   "version": "3.11.0"
  }
 },
 "nbformat": 4,
 "nbformat_minor": 2
}
