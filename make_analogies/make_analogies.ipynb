{
 "cells": [
  {
   "cell_type": "code",
   "execution_count": 1,
   "metadata": {},
   "outputs": [],
   "source": [
    "make_new_data = False\n",
    "train_new_model = True\n",
    "log_wandb = True\n",
    "\n",
    "import numpy as np\n",
    "np.random.seed(42)\n",
    "\n",
    "import torch\n",
    "torch.manual_seed(42)\n",
    "import torch.nn as nn\n",
    "import torch.optim as optim\n",
    "device = torch.device(\"cuda:0\" if torch.cuda.is_available() else \"cpu\")\n",
    "\n",
    "import pickle\n",
    "import wandb\n",
    "from sklearn.model_selection import train_test_split\n",
    "\n",
    "from make_analogies_functions import *\n",
    "\n",
    "num_samples = 100000 #each sample is a trio of images of which each comes in various forms (analogous transformations).\n",
    "img_size = 10\n",
    "pairs_per_task = 3\n",
    "shape = \"O\" #I or L or O or T\n",
    "all_images = []\n",
    "method_names = [\"Grown\", \"Moved\", \"Rotated\", \"Inverted\", \"Mirrored\", \"Close_Far Corners\", \"Close_Far Edges\", \"Stretched\", \"Shadows\", \"Gravity\", \"Count\"]\n",
    "seed_iteration = 0\n",
    "data = []\n",
    "rel_test_size  = 0.01\n",
    "num_epochs = 60\n",
    "batch_size = 512\n",
    "learning_rate = 0.001\n",
    "use_lr_scheduler = False"
   ]
  },
  {
   "cell_type": "code",
   "execution_count": 2,
   "metadata": {},
   "outputs": [],
   "source": [
    "if make_new_data:\n",
    "    for i in range(num_samples):    \n",
    "        trios = []\n",
    "        invalid_img = True\n",
    "        while invalid_img:\n",
    "            seed_iteration += 1\n",
    "            np.random.seed(seed_iteration)\n",
    "\n",
    "            #make 3 random images with Is\n",
    "            trio = [create_image(img_size = img_size, shape = shape) for _ in range(pairs_per_task)]\n",
    "\n",
    "            #sample parameters for analogies\n",
    "            mirror_horizontal = np.random.choice([True, False])\n",
    "            rotation_degree = np.random.choice([90, 180, 270])\n",
    "            grow_left = np.random.choice([0,1])\n",
    "            grow_right = np.random.choice([0,1])\n",
    "            grow_top = np.random.choice([0,1])\n",
    "            grow_bottom = np.random.choice([0,1])\n",
    "            possible_growths = [(0, 1, 0, 0), (1, 0, 0, 0), (0, 0, 1, 0), (0, 0, 0, 1)]\n",
    "            growth_index = np.random.choice(len(possible_growths))  # Choose an index from the list\n",
    "            grow_left, grow_right, grow_top, grow_bottom = possible_growths[growth_index]\n",
    "            possible_moves = [(0, 1), (1, 0), (-1, 0), (0, -1)]\n",
    "            move_index = np.random.choice(len(possible_moves))  # Choose an index from the list\n",
    "            move_vertical, move_horizontal = possible_moves[move_index]\n",
    "            furthest_edge = np.random.choice([True, False])\n",
    "            furthest_corner = np.random.choice([True, False])\n",
    "            reverse_shadows = np.random.choice([True, False])\n",
    "            gravity_direction = np.random.choice([\"up\",\"down\",\"left\",\"right\"])\n",
    "            count_left_right = np.random.choice([True, False])\n",
    "            count_top_bottom = np.random.choice([True, False])\n",
    "\n",
    "            # Generate analogies\n",
    "            growths = [grow(img, grow_top, grow_bottom, grow_left, grow_right) for img in trio]\n",
    "            moves = [move(img, move_horizontal, move_vertical)  for img in trio]\n",
    "            rotations = [rotate_image(img, rotation_degree) for img in trio]\n",
    "            inversions = [invert_colors(img)  for img in trio]\n",
    "            mirrors = [mirror_image(img, horizontal=mirror_horizontal) for img in trio]\n",
    "            corner_cells = [paint_corner(img, furthest_corner) for img in trio]\n",
    "            edges = [paint_edge(img, furthest_edge) for img in trio]\n",
    "            stretches = [stretch(img) for img in trio]\n",
    "            shadows = [draw_shadows(img, reverse_shadows)  for img in trio]\n",
    "            gravities = [gravity(img, gravity_direction)  for img in trio]\n",
    "            counts = [count_pixels(img, count_left_right, count_top_bottom) for img in trio]\n",
    "   \n",
    "            #check whether images violate rules (original three include duplicates; initial transformations left the canvas)\n",
    "            if np.array_equal(trio[0], trio[1]) or np.array_equal(trio[0], trio[2]) or np.array_equal(trio[1], trio[2]):\n",
    "                invalid_img = True\n",
    "            elif invalid_matrix(moves[0], img_size, img_size, 1):\n",
    "                invalid_img = True\n",
    "            elif invalid_matrix(growths[0], img_size, img_size, 1):\n",
    "                invalid_img = True\n",
    "            else:\n",
    "                invalid_img = False\n",
    "\n",
    "        \n",
    "        transformed_trios = [growths, moves, rotations, inversions, mirrors, corner_cells, edges, stretches, shadows, gravities, counts]\n",
    "        data.append([np.stack([trio, transformed_trio]) for transformed_trio in transformed_trios])\n",
    "\n",
    "    data = np.array(data)\n",
    "\n",
    "    long_data = data.reshape(data.shape[0]*data.shape[1], data.shape[2], data.shape[3], data.shape[4], data.shape[5])\n",
    "    long_data = long_data.reshape(long_data.shape[0], long_data.shape[1] * long_data.shape[2], long_data.shape[3], long_data.shape[4])\n",
    "    method_index = np.tile(method_names, num_samples)\n",
    "    nonduplicates, unique_ind = np.unique(long_data, axis=0, return_index=True) #get rid of duplicated tasks; could be stricter by also considering flipped fewshot orders as duplicated\n",
    "    method_index = method_index[unique_ind]\n",
    "    print(f\"{np.round(100*(1 - nonduplicates.shape[0] / long_data.shape[0]), 1)}% double trios were duplicated\") \n",
    "    print(long_data.shape)"
   ]
  },
  {
   "cell_type": "code",
   "execution_count": 3,
   "metadata": {},
   "outputs": [],
   "source": [
    "if make_new_data:\n",
    "    with open(f\"nonduplicates_{shape}.pkl\", \"wb\") as f:\n",
    "        pickle.dump(nonduplicates, file=f)\n",
    "    with open(f\"method_index_{shape}.pkl\", \"wb\") as f:\n",
    "        pickle.dump(method_index, file=f)\n",
    "else:\n",
    "    with open(f\"nonduplicates_{shape}.pkl\", \"rb\") as f:\n",
    "        nonduplicates = pickle.load(file=f)\n",
    "    with open(f\"method_index_{shape}.pkl\", \"rb\") as f:\n",
    "        method_index = pickle.load(file=f)"
   ]
  },
  {
   "cell_type": "code",
   "execution_count": 4,
   "metadata": {},
   "outputs": [
    {
     "name": "stdout",
     "output_type": "stream",
     "text": [
      "Close_Far Edges\n"
     ]
    },
    {
     "data": {
      "text/plain": [
       "<Figure size 1200x400 with 0 Axes>"
      ]
     },
     "metadata": {},
     "output_type": "display_data"
    },
    {
     "data": {
      "image/png": "[encoded data removed]",
      "text/plain": [
       "<Figure size 640x480 with 6 Axes>"
      ]
     },
     "metadata": {},
     "output_type": "display_data"
    }
   ],
   "source": [
    "print(method_index[5])\n",
    "plot_double_trio(nonduplicates[5])"
   ]
  },
  {
   "cell_type": "code",
   "execution_count": 5,
   "metadata": {},
   "outputs": [
    {
     "name": "stdout",
     "output_type": "stream",
     "text": [
      "x_train: torch.Size([1088728, 5, 10, 10]),\n",
      "y_train: torch.Size([1088728, 10, 10]),\n",
      "x_test: torch.Size([10998, 5, 10, 10]),\n",
      "y_test: torch.Size([10998, 10, 10])\n",
      "train methods: ['Shadows' 'Close_Far Corners' 'Shadows']\n",
      "test methods: ['Rotated' 'Count' 'Moved']\n"
     ]
    }
   ],
   "source": [
    "# Split into input (x) and output (y)\n",
    "x_data = nonduplicates[:, :-1, :, :] / 255 # All but the last channel\n",
    "y_data = nonduplicates[:, -1, :, :] / 255  # Only the last channel\n",
    "x_data = torch.from_numpy(x_data).float()\n",
    "y_data = torch.from_numpy(y_data).float()\n",
    "x_train, x_test, y_train, y_test, methods_train, methods_test = train_test_split(x_data, y_data, method_index, test_size=rel_test_size, random_state=42)\n",
    "print(f\"x_train: {x_train.shape},\\ny_train: {y_train.shape},\\nx_test: {x_test.shape},\\ny_test: {y_test.shape}\")\n",
    "print(f\"train methods: {methods_train[0:3]}\")\n",
    "print(f\"test methods: {methods_test[0:3]}\")\n",
    "train_dataset = torch.utils.data.TensorDataset(x_train, y_train)\n",
    "train_loader = torch.utils.data.DataLoader(train_dataset, batch_size=batch_size, shuffle=True)"
   ]
  },
  {
   "cell_type": "code",
   "execution_count": 6,
   "metadata": {},
   "outputs": [],
   "source": [
    "%%capture\n",
    "if train_new_model and log_wandb:\n",
    "    from datetime import datetime\n",
    "\n",
    "    # Get current date and time\n",
    "    current_datetime = datetime.now()\n",
    "\n",
    "    # Format the datetime object as a string\n",
    "    current_datetime_string = current_datetime.strftime(\"%Y-%m-%d %H\")\n",
    "\n",
    "    wandb.init(\n",
    "        project=\"simpleARC\",\n",
    "        name = f\"{shape}_{current_datetime_string}\",\n",
    "        config={\n",
    "        \n",
    "        \"architecture\": FullyConnectedNN,\n",
    "        \"shape\": shape,\n",
    "        \"img_size\": img_size,\n",
    "        \"pairs_per_task\": pairs_per_task,\n",
    "        \"analogies\": method_names,\n",
    "        \"epochs\": num_epochs,\n",
    "        \"learning_rate\": learning_rate,\n",
    "        \"use_lr_scheduler\": use_lr_scheduler,\n",
    "        \"rel_test_size\": rel_test_size,\n",
    "        \"num_samples\": num_samples\n",
    "        })"
   ]
  },
  {
   "cell_type": "code",
   "execution_count": 7,
   "metadata": {},
   "outputs": [
    {
     "name": "stdout",
     "output_type": "stream",
     "text": [
      "Nr params: 200700\n",
      "Epoch [1/60], Loss: 0.0936, Test: 0.0851, %solved: 20.80\n",
      "Epoch [2/60], Loss: 0.0493, Test: 0.0503, %solved: 36.29\n",
      "Epoch [3/60], Loss: 0.0307, Test: 0.0340, %solved: 48.35\n",
      "Epoch [4/60], Loss: 0.0271, Test: 0.0245, %solved: 57.46\n",
      "Epoch [5/60], Loss: 0.0196, Test: 0.0197, %solved: 63.22\n",
      "Epoch [6/60], Loss: 0.0123, Test: 0.0167, %solved: 68.75\n",
      "Epoch [7/60], Loss: 0.0182, Test: 0.0141, %solved: 72.80\n",
      "Epoch [8/60], Loss: 0.0091, Test: 0.0123, %solved: 76.90\n",
      "Epoch [9/60], Loss: 0.0090, Test: 0.0106, %solved: 78.86\n",
      "Epoch [10/60], Loss: 0.0076, Test: 0.0103, %solved: 80.18\n",
      "Epoch [11/60], Loss: 0.0115, Test: 0.0098, %solved: 81.11\n",
      "Epoch [12/60], Loss: 0.0097, Test: 0.0097, %solved: 81.69\n",
      "Epoch [13/60], Loss: 0.0055, Test: 0.0084, %solved: 85.01\n",
      "Epoch [14/60], Loss: 0.0061, Test: 0.0091, %solved: 83.98\n",
      "Epoch [15/60], Loss: 0.0078, Test: 0.0084, %solved: 83.30\n",
      "Epoch [16/60], Loss: 0.0059, Test: 0.0077, %solved: 86.92\n",
      "Epoch [17/60], Loss: 0.0050, Test: 0.0071, %solved: 87.02\n",
      "Epoch [18/60], Loss: 0.0047, Test: 0.0068, %solved: 87.36\n",
      "Epoch [19/60], Loss: 0.0040, Test: 0.0060, %solved: 89.36\n",
      "Epoch [20/60], Loss: 0.0088, Test: 0.0072, %solved: 87.74\n",
      "Epoch [21/60], Loss: 0.0022, Test: 0.0056, %solved: 91.04\n",
      "Epoch [22/60], Loss: 0.0037, Test: 0.0051, %solved: 90.87\n",
      "Epoch [23/60], Loss: 0.0037, Test: 0.0049, %solved: 91.94\n",
      "Epoch [24/60], Loss: 0.0023, Test: 0.0054, %solved: 90.76\n",
      "Epoch [25/60], Loss: 0.0038, Test: 0.0056, %solved: 91.82\n",
      "Epoch [26/60], Loss: 0.0067, Test: 0.0051, %solved: 91.83\n",
      "Epoch [27/60], Loss: 0.0096, Test: 0.0042, %solved: 92.34\n",
      "Epoch [28/60], Loss: 0.0030, Test: 0.0060, %solved: 91.33\n",
      "Epoch [29/60], Loss: 0.0027, Test: 0.0043, %solved: 93.57\n",
      "Epoch [30/60], Loss: 0.0058, Test: 0.0047, %solved: 93.15\n",
      "Epoch [31/60], Loss: 0.0028, Test: 0.0041, %solved: 93.82\n",
      "Epoch [32/60], Loss: 0.0017, Test: 0.0044, %solved: 93.67\n",
      "Epoch [33/60], Loss: 0.0034, Test: 0.0039, %solved: 94.14\n",
      "Epoch [34/60], Loss: 0.0019, Test: 0.0046, %solved: 93.54\n",
      "Epoch [35/60], Loss: 0.0047, Test: 0.0050, %solved: 94.08\n",
      "Epoch [36/60], Loss: 0.0020, Test: 0.0055, %solved: 93.54\n",
      "Epoch [37/60], Loss: 0.0053, Test: 0.0037, %solved: 94.60\n",
      "Epoch [38/60], Loss: 0.0027, Test: 0.0043, %solved: 94.30\n",
      "Epoch [39/60], Loss: 0.0051, Test: 0.0055, %solved: 93.48\n",
      "Epoch [40/60], Loss: 0.0012, Test: 0.0036, %solved: 94.84\n",
      "Epoch [41/60], Loss: 0.0021, Test: 0.0046, %solved: 94.50\n",
      "Epoch [42/60], Loss: 0.0010, Test: 0.0034, %solved: 95.82\n",
      "Epoch [43/60], Loss: 0.0055, Test: 0.0041, %solved: 95.34\n",
      "Epoch [44/60], Loss: 0.0070, Test: 0.0086, %solved: 91.36\n",
      "Epoch [45/60], Loss: 0.0044, Test: 0.0099, %solved: 90.33\n",
      "Epoch [46/60], Loss: 0.0053, Test: 0.0042, %solved: 94.87\n",
      "Epoch [47/60], Loss: 0.0010, Test: 0.0046, %solved: 94.48\n",
      "Epoch [48/60], Loss: 0.0014, Test: 0.0039, %solved: 95.95\n",
      "Epoch [49/60], Loss: 0.0026, Test: 0.0040, %solved: 95.98\n",
      "Epoch [50/60], Loss: 0.0008, Test: 0.0038, %solved: 95.62\n",
      "Epoch [51/60], Loss: 0.0249, Test: 0.0037, %solved: 95.44\n",
      "Epoch [52/60], Loss: 0.0017, Test: 0.0036, %solved: 95.77\n",
      "Epoch [53/60], Loss: 0.0015, Test: 0.0039, %solved: 95.56\n",
      "Epoch [54/60], Loss: 0.0024, Test: 0.0035, %solved: 96.31\n",
      "Epoch [55/60], Loss: 0.0011, Test: 0.0037, %solved: 95.87\n",
      "Epoch [56/60], Loss: 0.0009, Test: 0.0036, %solved: 96.11\n",
      "Epoch [57/60], Loss: 0.0046, Test: 0.0039, %solved: 96.53\n",
      "Epoch [58/60], Loss: 0.0013, Test: 0.0048, %solved: 95.46\n",
      "Epoch [59/60], Loss: 0.0021, Test: 0.0042, %solved: 96.70\n",
      "Epoch [60/60], Loss: 0.0020, Test: 0.0043, %solved: 95.79\n"
     ]
    }
   ],
   "source": [
    "torch.manual_seed(42)\n",
    "if train_new_model:\n",
    "    model = FullyConnectedNN().to(device)\n",
    "    print(f\"Nr params: {sum(p.numel() for p in model.parameters() if p.requires_grad)}\")\n",
    "\n",
    "    criterion = nn.BCELoss()\n",
    "    optimizer = optim.Adam(model.parameters(), lr=learning_rate, weight_decay=0)\n",
    "    if use_lr_scheduler:\n",
    "        scheduler = torch.optim.lr_scheduler.LinearLR(optimizer, start_factor=1, end_factor=0.1, total_iters=num_epochs, verbose=True)\n",
    "\n",
    "    for epoch in range(num_epochs):\n",
    "        for (inputs, labels) in train_loader:\n",
    "            inputs, labels = inputs.to(device), labels.to(device)\n",
    "            model.train()\n",
    "            optimizer.zero_grad()\n",
    "            train_outputs = model(inputs)\n",
    "            loss = criterion(train_outputs, labels)\n",
    "            loss.backward()\n",
    "            optimizer.step()\n",
    "        if use_lr_scheduler:\n",
    "            scheduler.step()\n",
    "\n",
    "        test_metrics = get_test_metrics(x_test, y_test, model, criterion, methods_test, True)\n",
    "        print(f'Epoch [{epoch + 1}/{num_epochs}], Loss: {loss.item():.4f}, Test: {test_metrics[\"test loss\"]:.4f}, %solved: {test_metrics[\"percent_solved\"]:.2f}')\n",
    "        if log_wandb:\n",
    "            wandb.log({\"epoch\": epoch + 1, \"train Loss\": loss.item()} | test_metrics)\n",
    "\n",
    "    torch.save(model.state_dict(), f'model_trained_on_{shape}.pth')\n",
    "else:\n",
    "    model = FullyConnectedNN()\n",
    "    model.load_state_dict(torch.load(f'model_trained_on_{shape}.pth'))"
   ]
  },
  {
   "cell_type": "code",
   "execution_count": 8,
   "metadata": {},
   "outputs": [
    {
     "name": "stdout",
     "output_type": "stream",
     "text": [
      "Test set example:\n"
     ]
    },
    {
     "data": {
      "text/plain": [
       "<Figure size 1200x400 with 0 Axes>"
      ]
     },
     "metadata": {},
     "output_type": "display_data"
    },
    {
     "data": {
      "image/png": "[encoded data removed]",
      "text/plain": [
       "<Figure size 640x480 with 6 Axes>"
      ]
     },
     "metadata": {},
     "output_type": "display_data"
    },
    {
     "name": "stdout",
     "output_type": "stream",
     "text": [
      "Prediction:\n"
     ]
    },
    {
     "data": {
      "image/png": "[encoded data removed]",
      "text/plain": [
       "<Figure size 700x300 with 2 Axes>"
      ]
     },
     "metadata": {},
     "output_type": "display_data"
    },
    {
     "name": "stdout",
     "output_type": "stream",
     "text": [
      "Most similar training case:\n"
     ]
    },
    {
     "data": {
      "text/plain": [
       "<Figure size 1200x400 with 0 Axes>"
      ]
     },
     "metadata": {},
     "output_type": "display_data"
    },
    {
     "data": {
      "image/png": "[encoded data removed]",
      "text/plain": [
       "<Figure size 640x480 with 6 Axes>"
      ]
     },
     "metadata": {},
     "output_type": "display_data"
    }
   ],
   "source": [
    "plot_exmp = 0\n",
    "with torch.inference_mode():\n",
    "    print(\"Test set example:\")\n",
    "    y  = y_test[plot_exmp].expand(1, y_test[plot_exmp].shape[0], y_test[plot_exmp].shape[1])\n",
    "    example = torch.row_stack((x_test[plot_exmp], y))\n",
    "    plot_double_trio(example)\n",
    "\n",
    "    print(\"Prediction:\")\n",
    "    tensor = model(x_test[plot_exmp].unsqueeze(0))[0]\n",
    "    fig, axs = plt.subplots(1, 2, figsize=(7, 3))  # 1 row, 2 columns\n",
    "    axs[0].set_title(\"Non-binarized (grayscale)\")\n",
    "    axs[0].imshow(tensor, cmap='gray')\n",
    "    axs[0].axis('off')\n",
    "    axs[1].set_title(\"Binarized (b/w)\")\n",
    "    axs[1].imshow(torch.round(tensor), cmap='gray')\n",
    "    axs[1].axis('off')\n",
    "    plt.tight_layout()\n",
    "    plt.show()\n",
    "    \n",
    "    print(\"Most similar training case:\")\n",
    "    distances = [torch.sum(torch.abs(x_test[plot_exmp] - np.array(x_train[i]))).item() for i in range(x_train.shape[0])]\n",
    "    sim_index = np.argmin(distances)\n",
    "    y  = y_train[sim_index].expand(1, y_train[sim_index].shape[0], y_train[sim_index].shape[1])\n",
    "    plot_double_trio(torch.row_stack((x_train[sim_index], y)))"
   ]
  },
  {
   "cell_type": "code",
   "execution_count": 9,
   "metadata": {},
   "outputs": [
    {
     "name": "stdout",
     "output_type": "stream",
     "text": [
      "{'test loss': 1.4295101165771484, 'percent_solved': 29.474641304940807, 'Close_Far Corners': 43.84038403840384, 'Close_Far Edges': 24.152173695632605, 'Count': 3.5292117527051623, 'Gravity': 17.02602156129368, 'Grown': 26.900345017250864, 'Inverted': 44.87677042490198, 'Mirrored': 46.49268517221366, 'Moved': 36.24226180356232, 'Rotated': 47.51727655488994, 'Shadows': 18.758250990118814, 'Stretched': 14.896575178042731}\n",
      "{'test loss': 1.1722663640975952, 'percent_solved': 13.932454545454545, 'Close_Far Corners': 13.828999999999999, 'Close_Far Edges': 7.866, 'Count': 8.665000000000001, 'Gravity': 2.513, 'Grown': 6.938, 'Inverted': 17.506, 'Mirrored': 20.951, 'Moved': 14.27, 'Rotated': 24.771, 'Shadows': 17.52, 'Stretched': 18.428}\n",
      "{'test loss': 0.0020985547453165054, 'percent_solved': 96.56423509128638, 'Close_Far Corners': 99.14778694673669, 'Close_Far Edges': 97.60849778453475, 'Count': 93.64930142315654, 'Gravity': 94.5075056755108, 'Grown': 96.82558732635242, 'Inverted': 98.53831300711335, 'Mirrored': 94.66406523587973, 'Moved': 94.77721658248738, 'Rotated': 93.83826059127095, 'Shadows': 99.74195097068443, 'Stretched': 98.90948745910578}\n",
      "{'test loss': 2.9934842586517334, 'percent_solved': 2.4484103787435942, 'Close_Far Corners': 3.1649999999999996, 'Close_Far Edges': 2.593, 'Count': 9.516, 'Gravity': 0.147, 'Grown': 0.6799999999999999, 'Inverted': 2.399023990239902, 'Mirrored': 1.7683182972935128, 'Moved': 2.5020000000000002, 'Rotated': 1.8530000000000002, 'Shadows': 0.7430074300743008, 'Stretched': 1.5660156601566018}\n"
     ]
    }
   ],
   "source": [
    "#predict on all shapes (e.g. differently shaped figures)\n",
    "for test_shape in [\"I\", \"L\", \"O\", \"T\"]:\n",
    "    with open(f\"nonduplicates_{test_shape}.pkl\", \"rb\") as f:\n",
    "        added_test_data = pickle.load(file=f)\n",
    "    with open(f\"method_index_{test_shape}.pkl\", \"rb\") as f:\n",
    "        methods_from_added_data = pickle.load(file=f)\n",
    "    added_x_data = added_test_data[:, :-1, :, :] / 255 # All but the last channel\n",
    "    added_y_data = added_test_data[:, -1, :, :] / 255  # Only the last channel\n",
    "    added_x_data = torch.from_numpy(added_x_data).float()\n",
    "    added_y_data = torch.from_numpy(added_y_data).float()\n",
    "    metrics = get_test_metrics(added_x_data, added_y_data, model, nn.BCELoss(), methods_from_added_data, True)\n",
    "    print(metrics)\n",
    "    if log_wandb:\n",
    "        wandb.log({f\"{test_shape}_{key}\": value for key, value in metrics.items()})"
   ]
  },
  {
   "cell_type": "code",
   "execution_count": 10,
   "metadata": {},
   "outputs": [
    {
     "name": "stdout",
     "output_type": "stream",
     "text": [
      "Example from additional dataset:\n"
     ]
    },
    {
     "data": {
      "text/plain": [
       "<Figure size 1200x400 with 0 Axes>"
      ]
     },
     "metadata": {},
     "output_type": "display_data"
    },
    {
     "data": {
      "image/png": "[encoded data removed]",
      "text/plain": [
       "<Figure size 640x480 with 6 Axes>"
      ]
     },
     "metadata": {},
     "output_type": "display_data"
    },
    {
     "name": "stdout",
     "output_type": "stream",
     "text": [
      "Prediction:\n"
     ]
    },
    {
     "data": {
      "image/png": "[encoded data removed]",
      "text/plain": [
       "<Figure size 700x300 with 2 Axes>"
      ]
     },
     "metadata": {},
     "output_type": "display_data"
    }
   ],
   "source": [
    "#inspect prediction on other datafile (e.g. differently shaped figures)\n",
    "test_shape = \"L\"\n",
    "with open(f\"nonduplicates_{test_shape}.pkl\", \"rb\") as f:\n",
    "    added_test_data = pickle.load(file=f)\n",
    "with open(f\"method_index_{test_shape}.pkl\", \"rb\") as f:\n",
    "    methods_from_added_data = pickle.load(file=f)\n",
    "added_x_data = added_test_data[:, :-1, :, :] / 255 # All but the last channel\n",
    "added_y_data = added_test_data[:, -1, :, :] / 255  # Only the last channel\n",
    "added_x_data = torch.from_numpy(added_x_data).float()\n",
    "added_y_data = torch.from_numpy(added_y_data).float()\n",
    "plot_exmp = 0\n",
    "with torch.inference_mode():\n",
    "    print(\"Example from additional dataset:\")\n",
    "    added_y  = added_y_data[plot_exmp].expand(1, added_y_data[plot_exmp].shape[0], added_y_data[plot_exmp].shape[1])\n",
    "    example = torch.row_stack((added_x_data[plot_exmp], added_y))\n",
    "    plot_double_trio(example)\n",
    "    print(\"Prediction:\")\n",
    "    tensor = model(added_x_data[plot_exmp].unsqueeze(0))[0]\n",
    "    fig, axs = plt.subplots(1, 2, figsize=(7, 3))  # 1 row, 2 columns\n",
    "    axs[0].set_title(\"Non-binarized (grayscale)\")\n",
    "    axs[0].imshow(tensor, cmap='gray')\n",
    "    axs[0].axis('off')\n",
    "    axs[1].set_title(\"Binarized (b/w)\")\n",
    "    axs[1].imshow(torch.round(tensor), cmap='gray')\n",
    "    axs[1].axis('off')\n",
    "    plt.tight_layout()\n",
    "    plt.show()"
   ]
  }
 ],
 "metadata": {
  "kernelspec": {
   "display_name": "venv",
   "language": "python",
   "name": "python3"
  },
  "language_info": {
   "codemirror_mode": {
    "name": "ipython",
    "version": 3
   },
   "file_extension": ".py",
   "mimetype": "text/x-python",
   "name": "python",
   "nbconvert_exporter": "python",
   "pygments_lexer": "ipython3",
   "version": "3.11.0"
  }
 },
 "nbformat": 4,
 "nbformat_minor": 2
}
